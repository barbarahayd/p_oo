{
 "cells": [
  {
   "metadata": {},
   "cell_type": "markdown",
   "source": [
    "###  **DTO (Data Transfer Object):** É uma classe que serve como um \"molde\" para organizar e validar os dados que serão enviados ou recebidos. Ele ajuda a estruturar os dados de uma maneira consistente e reutilizável.\n",
    "### **Payload:** É o conteúdo enviado no corpo da requisição HTTP (como um objeto JSON), geralmente gerado a partir do DTO.\n",
    "\n",
    "### Suponha que você quer coletar informações de produtos de um fornecedor via API. A API espera que você envie alguns parâmetros, como o ID do produto e a quantidade, para verificar o preço e o estoque disponíveis."
   ],
   "id": "1a896fdd05133931"
  },
  {
   "metadata": {},
   "cell_type": "markdown",
   "source": [
    "## Exemplo:\n",
    "#### Endpoint: https://api.fornecedor.com/produtos/preco-estoque\n",
    "#### Método: POST"
   ],
   "id": "b0a97d6bc84e74b8"
  },
  {
   "metadata": {},
   "cell_type": "code",
   "outputs": [],
   "execution_count": null,
   "source": [
    "# Payload esperado pela API (em JSON):\n",
    "\n",
    "{\n",
    "  \"product_id\": \"12345\",\n",
    "  \"quantity\": 10\n",
    "}\n"
   ],
   "id": "66ee0a573d88168c"
  },
  {
   "metadata": {},
   "cell_type": "code",
   "outputs": [],
   "execution_count": null,
   "source": [
    "# Criando o DTO\n",
    "# No Python, podemos criar uma classe para o DTO chamada ProdutoDTO, que define e organiza as informações necessárias:\n",
    "\n",
    "class ProdutoDTO:\n",
    "    def __init__(self, product_id, quantity):\n",
    "        self.product_id = product_id\n",
    "        self.quantity = quantity\n",
    "\n",
    "    def to_dict(self):\n",
    "        # Converte o DTO para um dicionário, que será usado como o payload da requisição\n",
    "        return {\n",
    "            \"product_id\": self.product_id,\n",
    "            \"quantity\": self.quantity\n",
    "        }\n"
   ],
   "id": "c6a1928b542b348e"
  },
  {
   "metadata": {},
   "cell_type": "code",
   "outputs": [],
   "execution_count": null,
   "source": [
    "# 2. Usando o DTO para Criar o Payload e Fazer a Requisição\n",
    "# Agora que temos o ProdutoDTO, podemos criar uma instância dele com as informações que queremos enviar para a API.\n",
    "\n",
    "import requests\n",
    "\n",
    "# Dados do produto que queremos consultar\n",
    "produto_dto = ProdutoDTO(product_id=\"12345\", quantity=10)\n",
    "\n",
    "# Definindo o endpoint e os headers\n",
    "url = \"https://api.fornecedor.com/produtos/preco-estoque\"\n",
    "headers = {\n",
    "    \"Authorization\": \"Bearer SEU_TOKEN_DE_ACESSO\",\n",
    "    \"Content-Type\": \"application/json\"\n",
    "}\n",
    "\n",
    "# Transformando o DTO em payload para a requisição\n",
    "payload = produto_dto.to_dict()\n",
    "\n",
    "# Fazendo a requisição POST com o payload\n",
    "response = requests.post(url, json=payload, headers=headers)\n",
    "\n",
    "# Verificando a resposta\n",
    "if response.status_code == 200:\n",
    "    dados = response.json()\n",
    "    print(\"Preço:\", dados.get(\"price\"))\n",
    "    print(\"Estoque disponível:\", dados.get(\"stock\"))\n",
    "else:\n",
    "    print(\"Erro:\", response.status_code, response.text)\n"
   ],
   "id": "e2feb5d08cdc88d"
  },
  {
   "metadata": {},
   "cell_type": "markdown",
   "source": [
    "### DTO (ProdutoDTO): Ele organiza os dados que queremos enviar. Nós o usamos para definir e encapsular os campos product_id e quantity em uma estrutura reutilizável. O método to_dict() converte o DTO para um formato de dicionário, que facilita a transformação em JSON na requisição.\n",
    "\n",
    "### Payload: O payload é o dicionário que representa o corpo da requisição HTTP ({\"product_id\": \"12345\", \"quantity\": 10}). O payload é o dado concreto que enviamos para a API usando json=payload no método requests.post."
   ],
   "id": "c369e30fe3bec3d2"
  },
  {
   "metadata": {},
   "cell_type": "markdown",
   "source": "",
   "id": "595c0a8d3ca1a93f"
  }
 ],
 "metadata": {
  "kernelspec": {
   "display_name": "Python 3",
   "language": "python",
   "name": "python3"
  },
  "language_info": {
   "codemirror_mode": {
    "name": "ipython",
    "version": 2
   },
   "file_extension": ".py",
   "mimetype": "text/x-python",
   "name": "python",
   "nbconvert_exporter": "python",
   "pygments_lexer": "ipython2",
   "version": "2.7.6"
  }
 },
 "nbformat": 4,
 "nbformat_minor": 5
}
